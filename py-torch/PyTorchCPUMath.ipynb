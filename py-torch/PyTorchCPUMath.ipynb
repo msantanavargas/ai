{
 "cells": [
  {
   "cell_type": "code",
   "id": "initial_id",
   "metadata": {
    "collapsed": true,
    "ExecuteTime": {
     "end_time": "2025-10-07T23:35:57.413619Z",
     "start_time": "2025-10-07T23:35:55.718897Z"
    }
   },
   "source": "import torch",
   "outputs": [],
   "execution_count": 1
  },
  {
   "metadata": {
    "ExecuteTime": {
     "end_time": "2025-10-07T23:37:47.818068Z",
     "start_time": "2025-10-07T23:37:47.815653Z"
    }
   },
   "cell_type": "code",
   "source": "id_tensor = torch.tensor([[1,0,0],[0,1,0],[0,0,1]])",
   "id": "524dd4054e15b7f4",
   "outputs": [],
   "execution_count": 5
  },
  {
   "metadata": {
    "ExecuteTime": {
     "end_time": "2025-10-07T23:38:32.897435Z",
     "start_time": "2025-10-07T23:38:32.894267Z"
    }
   },
   "cell_type": "code",
   "source": "tensor1 = torch.tensor([[0,0,1],[0,0,2],[0,0,3]])",
   "id": "9b27b81ed181baa8",
   "outputs": [],
   "execution_count": 6
  },
  {
   "metadata": {
    "ExecuteTime": {
     "end_time": "2025-10-07T23:40:51.161263Z",
     "start_time": "2025-10-07T23:40:51.158868Z"
    }
   },
   "cell_type": "code",
   "source": "mmult_tensor = torch.matmul(tensor1,id_tensor)",
   "id": "4235cd77febefbff",
   "outputs": [],
   "execution_count": 8
  },
  {
   "metadata": {
    "ExecuteTime": {
     "end_time": "2025-10-07T23:45:25.849333Z",
     "start_time": "2025-10-07T23:45:25.846958Z"
    }
   },
   "cell_type": "code",
   "source": "tensor2 = torch.tensor([[1,2,3],[4,5,6],[.5,.25,.12]])",
   "id": "faa5a506cc5ab6c4",
   "outputs": [],
   "execution_count": 13
  },
  {
   "metadata": {
    "ExecuteTime": {
     "end_time": "2025-10-07T23:46:03.522924Z",
     "start_time": "2025-10-07T23:46:03.520632Z"
    }
   },
   "cell_type": "code",
   "source": "tensor2_inverse = torch.inverse(tensor2)",
   "id": "e155e720c8a5c934",
   "outputs": [],
   "execution_count": 15
  },
  {
   "metadata": {
    "ExecuteTime": {
     "end_time": "2025-10-07T23:46:13.576777Z",
     "start_time": "2025-10-07T23:46:13.574494Z"
    }
   },
   "cell_type": "code",
   "source": "id_tensor_check = torch.matmul(tensor2,tensor2_inverse)",
   "id": "1b195b04ab859d32",
   "outputs": [],
   "execution_count": 16
  }
 ],
 "metadata": {
  "kernelspec": {
   "display_name": "Python 3",
   "language": "python",
   "name": "python3"
  },
  "language_info": {
   "codemirror_mode": {
    "name": "ipython",
    "version": 2
   },
   "file_extension": ".py",
   "mimetype": "text/x-python",
   "name": "python",
   "nbconvert_exporter": "python",
   "pygments_lexer": "ipython2",
   "version": "2.7.6"
  }
 },
 "nbformat": 4,
 "nbformat_minor": 5
}
