{
 "cells": [
  {
   "cell_type": "code",
   "id": "initial_id",
   "metadata": {
    "collapsed": true,
    "ExecuteTime": {
     "end_time": "2025-10-07T23:55:32.087505Z",
     "start_time": "2025-10-07T23:55:30.843495Z"
    }
   },
   "source": "import torch",
   "outputs": [],
   "execution_count": 1
  },
  {
   "metadata": {
    "ExecuteTime": {
     "end_time": "2025-10-07T23:57:07.069314Z",
     "start_time": "2025-10-07T23:57:07.066304Z"
    }
   },
   "cell_type": "code",
   "source": [
    "# Use 2nd GPU\n",
    "with torch.device('cuda',1):\n",
    "    print(torch.cuda.current_device())"
   ],
   "id": "231ba487e946c676",
   "outputs": [
    {
     "name": "stdout",
     "output_type": "stream",
     "text": [
      "0\n"
     ]
    }
   ],
   "execution_count": 15
  },
  {
   "metadata": {
    "ExecuteTime": {
     "end_time": "2025-10-07T23:59:24.998638Z",
     "start_time": "2025-10-07T23:59:24.994052Z"
    }
   },
   "cell_type": "code",
   "source": [
    "with torch.device('cuda',1):\n",
    "    id_tensor = torch.tensor([[1., 0., 0.], [0., 1., 0.], [0., 0., 1.]])\n",
    "    tensor1 = torch.tensor([[0., 0., 1.], [0., 0., 2.], [0., 0., 3.]])\n",
    "    mmult_tensor = torch.matmul(tensor1, id_tensor)\n",
    "    print(mmult_tensor)\n",
    "    tensor2 = torch.tensor([[1, 2, 3], [4, 5, 6], [.5, .25, .12]])\n",
    "    tensor2_inverse = torch.inverse(tensor2)\n",
    "    id_tensor_check = torch.matmul(tensor2, tensor2_inverse)\n",
    "    print(id_tensor_check)"
   ],
   "id": "8e6aad624c565e89",
   "outputs": [
    {
     "name": "stdout",
     "output_type": "stream",
     "text": [
      "tensor([[0., 0., 1.],\n",
      "        [0., 0., 2.],\n",
      "        [0., 0., 3.]], device='cuda:1')\n",
      "tensor([[ 1.0000e+00,  0.0000e+00,  1.9073e-06],\n",
      "        [ 0.0000e+00,  1.0000e+00,  3.8147e-06],\n",
      "        [-5.9605e-08,  2.9802e-08,  1.0000e+00]], device='cuda:1')\n"
     ]
    }
   ],
   "execution_count": 23
  }
 ],
 "metadata": {
  "kernelspec": {
   "display_name": "Python 3",
   "language": "python",
   "name": "python3"
  },
  "language_info": {
   "codemirror_mode": {
    "name": "ipython",
    "version": 2
   },
   "file_extension": ".py",
   "mimetype": "text/x-python",
   "name": "python",
   "nbconvert_exporter": "python",
   "pygments_lexer": "ipython2",
   "version": "2.7.6"
  }
 },
 "nbformat": 4,
 "nbformat_minor": 5
}
