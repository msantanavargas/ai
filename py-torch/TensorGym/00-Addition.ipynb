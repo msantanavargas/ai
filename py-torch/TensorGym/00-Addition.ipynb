{
 "cells": [
  {
   "cell_type": "code",
   "id": "initial_id",
   "metadata": {
    "collapsed": true,
    "ExecuteTime": {
     "end_time": "2025-10-09T21:13:32.920133Z",
     "start_time": "2025-10-09T21:13:30.791345Z"
    }
   },
   "source": "import torch",
   "outputs": [],
   "execution_count": 1
  },
  {
   "metadata": {
    "ExecuteTime": {
     "end_time": "2025-10-09T21:17:54.262874Z",
     "start_time": "2025-10-09T21:17:54.257133Z"
    }
   },
   "cell_type": "code",
   "source": [
    "\n",
    "def add_tensors(x: torch.Tensor, y: torch.Tensor) -> torch.Tensor:\n",
    "    with torch.device('cuda',1):\n",
    "        result = torch.add(x,y)\n",
    "    return result"
   ],
   "id": "705283cfbdd2913b",
   "outputs": [
    {
     "name": "stdout",
     "output_type": "stream",
     "text": [
      "tensor([[1., 1., 1.],\n",
      "        [1., 1., 1.],\n",
      "        [1., 1., 1.]])\n",
      "tensor([[1., 1., 1.],\n",
      "        [1., 1., 1.],\n",
      "        [1., 1., 1.]])\n"
     ]
    }
   ],
   "execution_count": 4
  },
  {
   "metadata": {
    "ExecuteTime": {
     "end_time": "2025-10-09T21:18:15.890053Z",
     "start_time": "2025-10-09T21:18:15.886558Z"
    }
   },
   "cell_type": "code",
   "source": [
    "x1 = torch.tensor([[1.,0.,0.],[0.,1.,0.],[0.,0.,1.]])\n",
    "x2 = torch.tensor([[0.,1.,1.],[1.,0.,1.],[1.,1.,0.]])\n",
    "\n",
    "x3 = add_tensors(x1,x2)\n",
    "print(x3)"
   ],
   "id": "e09d3c1c6833ec52",
   "outputs": [
    {
     "name": "stdout",
     "output_type": "stream",
     "text": [
      "tensor([[1., 1., 1.],\n",
      "        [1., 1., 1.],\n",
      "        [1., 1., 1.]])\n"
     ]
    }
   ],
   "execution_count": 5
  },
  {
   "metadata": {
    "ExecuteTime": {
     "end_time": "2025-10-09T21:18:21.050105Z",
     "start_time": "2025-10-09T21:18:21.046356Z"
    }
   },
   "cell_type": "code",
   "source": [
    "x4 = torch.tensor([[1.5,0.,0.],[0.,1.5,0.],[0.,0.,1.5]])\n",
    "x5 = torch.tensor([[0.,1.2,1.2],[1.2,0.,1.2],[1.,1.,0.]])\n",
    "\n",
    "x6 = add_tensors(x4,x5)\n",
    "print(x6)"
   ],
   "id": "2c8c6590544c3172",
   "outputs": [
    {
     "name": "stdout",
     "output_type": "stream",
     "text": [
      "tensor([[1.5000, 1.2000, 1.2000],\n",
      "        [1.2000, 1.5000, 1.2000],\n",
      "        [1.0000, 1.0000, 1.5000]])\n"
     ]
    }
   ],
   "execution_count": 6
  }
 ],
 "metadata": {
  "kernelspec": {
   "display_name": "Python 3",
   "language": "python",
   "name": "python3"
  },
  "language_info": {
   "codemirror_mode": {
    "name": "ipython",
    "version": 2
   },
   "file_extension": ".py",
   "mimetype": "text/x-python",
   "name": "python",
   "nbconvert_exporter": "python",
   "pygments_lexer": "ipython2",
   "version": "2.7.6"
  }
 },
 "nbformat": 4,
 "nbformat_minor": 5
}
