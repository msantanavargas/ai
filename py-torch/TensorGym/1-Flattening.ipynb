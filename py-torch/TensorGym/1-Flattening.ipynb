{
 "cells": [
  {
   "cell_type": "code",
   "id": "initial_id",
   "metadata": {
    "collapsed": true,
    "ExecuteTime": {
     "end_time": "2025-10-09T21:25:03.246252Z",
     "start_time": "2025-10-09T21:25:01.914780Z"
    }
   },
   "source": "import torch",
   "outputs": [],
   "execution_count": 1
  },
  {
   "metadata": {
    "ExecuteTime": {
     "end_time": "2025-10-09T21:28:44.842736Z",
     "start_time": "2025-10-09T21:28:44.840386Z"
    }
   },
   "cell_type": "code",
   "source": [
    "def flatten(x: torch.Tensor) -> torch.Tensor:\n",
    "    with torch.device('cuda', 1):\n",
    "        result = x.view(-1)\n",
    "    return result"
   ],
   "id": "abec91ed79f93360",
   "outputs": [],
   "execution_count": 9
  },
  {
   "metadata": {
    "ExecuteTime": {
     "end_time": "2025-10-09T23:20:48.787406Z",
     "start_time": "2025-10-09T23:20:48.782691Z"
    }
   },
   "cell_type": "code",
   "source": [
    "x1 = torch.tensor([[1.,0.,0.],[0.,1.,0.],[0.,0.,1.]])\n",
    "print(flatten(x1))\n",
    "\n",
    "x2 = torch.tensor([[0.,1.,1.],[1.,0.,1.],[1.,1.,0.]])\n",
    "print(flatten(x2))"
   ],
   "id": "3b83bef988694829",
   "outputs": [
    {
     "name": "stdout",
     "output_type": "stream",
     "text": [
      "tensor([1., 0., 0., 0., 1., 0., 0., 0., 1.])\n",
      "tensor([0., 1., 1., 1., 0., 1., 1., 1., 0.])\n"
     ]
    }
   ],
   "execution_count": 11
  }
 ],
 "metadata": {
  "kernelspec": {
   "display_name": "Python 3",
   "language": "python",
   "name": "python3"
  },
  "language_info": {
   "codemirror_mode": {
    "name": "ipython",
    "version": 2
   },
   "file_extension": ".py",
   "mimetype": "text/x-python",
   "name": "python",
   "nbconvert_exporter": "python",
   "pygments_lexer": "ipython2",
   "version": "2.7.6"
  }
 },
 "nbformat": 4,
 "nbformat_minor": 5
}
