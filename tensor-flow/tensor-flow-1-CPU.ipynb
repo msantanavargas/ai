{
 "cells": [
  {
   "cell_type": "code",
   "execution_count": null,
   "id": "aa5664e6-beca-451b-877e-9cc737b172d2",
   "metadata": {},
   "outputs": [],
   "source": [
    "# From: https://www.tensorflow.org/tutorials/quickstart/beginner"
   ]
  },
  {
   "cell_type": "code",
   "execution_count": 1,
   "id": "f3083960-c4ff-4128-83b0-bde8c695702b",
   "metadata": {},
   "outputs": [
    {
     "name": "stderr",
     "output_type": "stream",
     "text": [
      "2024-08-15 11:57:36.706767: I tensorflow/core/platform/cpu_feature_guard.cc:182] This TensorFlow binary is optimized to use available CPU instructions in performance-critical operations.\n",
      "To enable the following instructions: SSE4.1 SSE4.2 AVX AVX2 FMA, in other operations, rebuild TensorFlow with the appropriate compiler flags.\n"
     ]
    },
    {
     "name": "stdout",
     "output_type": "stream",
     "text": [
      "TensorFlow version: 2.12.0\n"
     ]
    }
   ],
   "source": [
    "import tensorflow as tf\n",
    "print(\"TensorFlow version:\", tf.__version__)\n"
   ]
  },
  {
   "cell_type": "code",
   "execution_count": 2,
   "id": "dc2806e3-52a5-445e-a861-5625d45fc1b6",
   "metadata": {},
   "outputs": [
    {
     "name": "stdout",
     "output_type": "stream",
     "text": [
      "Downloading data from https://storage.googleapis.com/tensorflow/tf-keras-datasets/mnist.npz\n",
      "11490434/11490434 [==============================] - 0s 0us/step\n"
     ]
    }
   ],
   "source": [
    "mnist = tf.keras.datasets.mnist\n",
    "\n",
    "(x_train, y_train), (x_test, y_test) = mnist.load_data()\n",
    "x_train, x_test = x_train / 255.0, x_test / 255.0\n"
   ]
  },
  {
   "cell_type": "code",
   "execution_count": 3,
   "id": "59fc7a1d-473e-4dfe-997f-f6b5bf5ca8ed",
   "metadata": {},
   "outputs": [
    {
     "name": "stderr",
     "output_type": "stream",
     "text": [
      "2024-08-15 11:59:40.305100: I tensorflow/core/common_runtime/process_util.cc:146] Creating new thread pool with default inter op setting: 2. Tune using inter_op_parallelism_threads for best performance.\n"
     ]
    }
   ],
   "source": [
    "model = tf.keras.models.Sequential([\n",
    "  tf.keras.layers.Flatten(input_shape=(28, 28)),\n",
    "  tf.keras.layers.Dense(128, activation='relu'),\n",
    "  tf.keras.layers.Dropout(0.2),\n",
    "  tf.keras.layers.Dense(10)\n",
    "])\n"
   ]
  },
  {
   "cell_type": "code",
   "execution_count": 4,
   "id": "c2918c04-5737-46e6-9051-e1a8ac10b4bc",
   "metadata": {},
   "outputs": [
    {
     "data": {
      "text/plain": [
       "array([[-0.21521941,  0.09957111, -0.4537576 , -0.6891334 ,  0.03850058,\n",
       "         0.28893542, -0.73147553,  0.11948422, -0.16619596,  0.11764579]],\n",
       "      dtype=float32)"
      ]
     },
     "execution_count": 4,
     "metadata": {},
     "output_type": "execute_result"
    }
   ],
   "source": [
    "predictions = model(x_train[:1]).numpy()\n",
    "predictions\n"
   ]
  },
  {
   "cell_type": "code",
   "execution_count": 5,
   "id": "69b7a797-2704-41eb-8880-ae626f33255a",
   "metadata": {},
   "outputs": [
    {
     "data": {
      "text/plain": [
       "array([[0.08957212, 0.12271131, 0.070563  , 0.05576409, 0.11544152,\n",
       "        0.14829431, 0.05345221, 0.12517937, 0.09407267, 0.12494945]],\n",
       "      dtype=float32)"
      ]
     },
     "execution_count": 5,
     "metadata": {},
     "output_type": "execute_result"
    }
   ],
   "source": [
    "tf.nn.softmax(predictions).numpy()\n"
   ]
  },
  {
   "cell_type": "code",
   "execution_count": 6,
   "id": "8e0d1b11-4c07-47da-8181-fceb9fda19bf",
   "metadata": {},
   "outputs": [],
   "source": [
    "loss_fn = tf.keras.losses.SparseCategoricalCrossentropy(from_logits=True)\n"
   ]
  },
  {
   "cell_type": "code",
   "execution_count": 7,
   "id": "4bc9303b-f569-4b10-9531-53439ee8cd75",
   "metadata": {},
   "outputs": [],
   "source": [
    "model.compile(optimizer='adam',\n",
    "              loss=loss_fn,\n",
    "              metrics=['accuracy'])\n"
   ]
  },
  {
   "cell_type": "code",
   "execution_count": 8,
   "id": "c620e642-2d3b-4f38-8f12-5edc65bcfdcd",
   "metadata": {},
   "outputs": [
    {
     "name": "stdout",
     "output_type": "stream",
     "text": [
      "Epoch 1/5\n",
      "1875/1875 [==============================] - 6s 3ms/step - loss: 0.2947 - accuracy: 0.9138\n",
      "Epoch 2/5\n",
      "1875/1875 [==============================] - 7s 3ms/step - loss: 0.1424 - accuracy: 0.9574\n",
      "Epoch 3/5\n",
      "1875/1875 [==============================] - 7s 4ms/step - loss: 0.1069 - accuracy: 0.9678\n",
      "Epoch 4/5\n",
      "1875/1875 [==============================] - 8s 4ms/step - loss: 0.0866 - accuracy: 0.9736\n",
      "Epoch 5/5\n",
      "1875/1875 [==============================] - 7s 4ms/step - loss: 0.0751 - accuracy: 0.9767\n"
     ]
    },
    {
     "data": {
      "text/plain": [
       "<keras.callbacks.History at 0x7f814f8c0f10>"
      ]
     },
     "execution_count": 8,
     "metadata": {},
     "output_type": "execute_result"
    }
   ],
   "source": [
    "model.fit(x_train, y_train, epochs=5)\n"
   ]
  },
  {
   "cell_type": "code",
   "execution_count": 9,
   "id": "6af237e1-b076-464b-8d53-bb1ba7b50a0a",
   "metadata": {},
   "outputs": [
    {
     "name": "stdout",
     "output_type": "stream",
     "text": [
      "313/313 - 1s - loss: 0.0759 - accuracy: 0.9772 - 664ms/epoch - 2ms/step\n"
     ]
    },
    {
     "data": {
      "text/plain": [
       "[0.075938381254673, 0.9771999716758728]"
      ]
     },
     "execution_count": 9,
     "metadata": {},
     "output_type": "execute_result"
    }
   ],
   "source": [
    "model.evaluate(x_test,  y_test, verbose=2)\n"
   ]
  },
  {
   "cell_type": "code",
   "execution_count": 10,
   "id": "6331f5d4-5099-49ad-887c-cf9eb3375d51",
   "metadata": {},
   "outputs": [],
   "source": [
    "probability_model = tf.keras.Sequential([\n",
    "  model,\n",
    "  tf.keras.layers.Softmax()\n",
    "])\n"
   ]
  },
  {
   "cell_type": "code",
   "execution_count": 11,
   "id": "02b096c8-e418-47d8-a72c-efede94ab941",
   "metadata": {},
   "outputs": [
    {
     "data": {
      "text/plain": [
       "<tf.Tensor: shape=(5, 10), dtype=float32, numpy=\n",
       "array([[1.9437905e-06, 3.9604633e-10, 1.7852045e-06, 3.4664947e-04,\n",
       "        5.2488115e-11, 2.9132744e-07, 1.3168801e-11, 9.9963629e-01,\n",
       "        3.6267472e-06, 9.3547751e-06],\n",
       "       [1.3268887e-07, 6.3137227e-04, 9.9920279e-01, 1.6106649e-04,\n",
       "        1.2121348e-14, 1.6346362e-06, 2.0439550e-07, 7.6969586e-14,\n",
       "        2.8299230e-06, 1.1909043e-11],\n",
       "       [1.3280759e-05, 9.9738508e-01, 4.5172111e-04, 4.8422109e-05,\n",
       "        1.7123013e-04, 1.2855886e-05, 8.0592734e-05, 7.0787268e-04,\n",
       "        1.1211580e-03, 7.7528139e-06],\n",
       "       [9.9990416e-01, 1.0072614e-09, 4.8658700e-07, 1.0976001e-07,\n",
       "        9.1374787e-08, 5.8566320e-06, 5.9437876e-05, 2.3083556e-05,\n",
       "        9.8272700e-08, 6.5890213e-06],\n",
       "       [1.7431010e-05, 5.3638991e-09, 4.0649456e-06, 3.1832723e-08,\n",
       "        9.9853671e-01, 6.1594989e-08, 2.3027999e-06, 2.4057516e-04,\n",
       "        2.3593830e-07, 1.1986461e-03]], dtype=float32)>"
      ]
     },
     "execution_count": 11,
     "metadata": {},
     "output_type": "execute_result"
    }
   ],
   "source": [
    "probability_model(x_test[:5])\n"
   ]
  }
 ],
 "metadata": {
  "kernelspec": {
   "display_name": "Python 3 (ipykernel)",
   "language": "python",
   "name": "python3"
  },
  "language_info": {
   "codemirror_mode": {
    "name": "ipython",
    "version": 3
   },
   "file_extension": ".py",
   "mimetype": "text/x-python",
   "name": "python",
   "nbconvert_exporter": "python",
   "pygments_lexer": "ipython3",
   "version": "3.9.19"
  }
 },
 "nbformat": 4,
 "nbformat_minor": 5
}
